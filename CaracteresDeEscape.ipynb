{
 "cells": [
  {
   "cell_type": "markdown",
   "id": "0f259aa9",
   "metadata": {},
   "source": [
    "La barra invertida \"\\\", se llama caracter de escape cuando se usa dentro de cadenas.\n",
    "Se entiende por escape, a que la serie de caracteres en la cadena \"se escapan\" por un momento, \n",
    "para introducir una inclusión especial.\n",
    "\n",
    "La letra \"n\" colocada después de la barra invertida proviene de *newline*."
   ]
  },
  {
   "cell_type": "code",
   "execution_count": null,
   "id": "5cfd2c79",
   "metadata": {},
   "outputs": [],
   "source": [
    "print(\"La Witsi Witsi Araña \\n subió su teleraña.\")\n",
    "print()\n",
    "print(\"Vino la lluvia\\n y se la llevó.\")\n",
    "\n",
    "\n"
   ]
  },
  {
   "cell_type": "markdown",
   "id": "3f27d725",
   "metadata": {},
   "source": [
    "Impresión con varios argumentos."
   ]
  },
  {
   "cell_type": "code",
   "execution_count": null,
   "id": "8dda5ab5",
   "metadata": {},
   "outputs": [],
   "source": [
    "print(\"La Witsi Witsi Araña\",\"subió\", \"su teleraña.\")"
   ]
  },
  {
   "cell_type": "markdown",
   "id": "9736bed3",
   "metadata": {},
   "source": [
    "Argumentos de palabras clave.\n",
    "El nombre de este mecanismo, proviene del hecho de que el significado de estos argumentos se toma \n",
    "no de su posición sino de la palabra clave utilizada para identificarlos.\n",
    "\n",
    "Un argumento de palabra clave consta de tres elementos: una palabra clave, un signo de igual y un valor asignado a ese argumento.\n",
    "Cualquier argumento de palabra clave debe colocarse después del argumento posicional."
   ]
  },
  {
   "cell_type": "code",
   "execution_count": 2,
   "id": "7d5661f0",
   "metadata": {},
   "outputs": [
    {
     "name": "stdout",
     "output_type": "stream",
     "text": [
      "Mi nombre es Python. Monty Python.\n"
     ]
    }
   ],
   "source": [
    "print(\"Mi nombre es\", \"Python.\", end=\" \")\n",
    "print(\"Monty Python.\")\n"
   ]
  },
  {
   "cell_type": "markdown",
   "id": "7642c4df",
   "metadata": {},
   "source": [
    "El argumento sep (separador), produce los siguientes resultados:"
   ]
  },
  {
   "cell_type": "code",
   "execution_count": 1,
   "id": "1345a077",
   "metadata": {},
   "outputs": [
    {
     "name": "stdout",
     "output_type": "stream",
     "text": [
      "Mi-nombre-es-Monty-Python\n"
     ]
    }
   ],
   "source": [
    "print(\"Mi\",\"nombre\",\"es\",\"Monty\",\"Python\",sep=\"-\")"
   ]
  },
  {
   "cell_type": "markdown",
   "id": "68cbfc85",
   "metadata": {},
   "source": [
    "Ambos argumentos de palabra clave pueden mezclarse en una invocación."
   ]
  },
  {
   "cell_type": "code",
   "execution_count": 3,
   "id": "dfae686c",
   "metadata": {},
   "outputs": [
    {
     "name": "stdout",
     "output_type": "stream",
     "text": [
      "Mi_nombre_es*Monty*Python*\n"
     ]
    }
   ],
   "source": [
    "print(\"Mi\",\"nombre\",\"es\",sep=\"_\",end=\"*\")\n",
    "print(\"Monty\",\"Python\",sep=\"*\",end=\"*\\n\")"
   ]
  },
  {
   "cell_type": "markdown",
   "id": "9b99d4cb",
   "metadata": {},
   "source": [
    "Salida esperada:\n",
    "\"Programming***Essentials***in...Python\""
   ]
  },
  {
   "cell_type": "code",
   "execution_count": 4,
   "id": "541b27ce",
   "metadata": {},
   "outputs": [
    {
     "name": "stdout",
     "output_type": "stream",
     "text": [
      "Programming***Essentials***in...Python\n"
     ]
    }
   ],
   "source": [
    "print(\"Programming\",\"Essentials\",\"in\",sep=\"***\",end=\"...\")\n",
    "print(\"Python\")"
   ]
  }
 ],
 "metadata": {
  "kernelspec": {
   "display_name": "base",
   "language": "python",
   "name": "python3"
  },
  "language_info": {
   "codemirror_mode": {
    "name": "ipython",
    "version": 3
   },
   "file_extension": ".py",
   "mimetype": "text/x-python",
   "name": "python",
   "nbconvert_exporter": "python",
   "pygments_lexer": "ipython3",
   "version": "3.12.4"
  }
 },
 "nbformat": 4,
 "nbformat_minor": 5
}
