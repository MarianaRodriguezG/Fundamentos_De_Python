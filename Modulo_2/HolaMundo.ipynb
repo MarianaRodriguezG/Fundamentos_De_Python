{
 "cells": [
  {
   "cell_type": "markdown",
   "id": "c056cd2d",
   "metadata": {},
   "source": [
    "La palabra print que aparece aquí, es el nombre de una función.\n",
    "Una función (en este contexto), es una parte separada del código\n",
    "de computadora el cual es capaz de:\n",
    "\n",
    "    *Causar algun efecto.*\n",
    "    *Evaluar un valor y devolverlo como el resultado de la función.*"
   ]
  },
  {
   "cell_type": "code",
   "execution_count": 1,
   "id": "5a6db240",
   "metadata": {},
   "outputs": [
    {
     "name": "stdout",
     "output_type": "stream",
     "text": [
      "¡Hola, Mundo!\n"
     ]
    }
   ],
   "source": [
    "print(\"¡Hola, Mundo!\")"
   ]
  },
  {
   "cell_type": "markdown",
   "id": "bfd87676",
   "metadata": {},
   "source": [
    "Una función puede tener:\n",
    "    *Un efecto;*\n",
    "    *Un resultado.*\n",
    "Pero también existe un tercer componente de la función; el o los argumentos.\n",
    "A pesar del número de argumentos necesarios o proporcionados, \n",
    "las funciones de Python demandan paridad \"()\", es decir, requieren de la presencia\n",
    "del paréntesis de apertura y de cierre.\n",
    "\n",
    "En el ejemplo, el argumento de la función es una cadena delimitada por comillas:\n",
    "print(\"¡Hola, Mundo!\")"
   ]
  },
  {
   "cell_type": "markdown",
   "id": "bd3c7c62",
   "metadata": {},
   "source": [
    "El nombre de la función junto con los paréntesis y los argumentos, forman la invocación de la función.\n",
    "function_name(argument)."
   ]
  },
  {
   "cell_type": "code",
   "execution_count": 3,
   "id": "a5bdfc16",
   "metadata": {},
   "outputs": [
    {
     "name": "stdout",
     "output_type": "stream",
     "text": [
      "Esto es una invocación de una función.\n"
     ]
    }
   ],
   "source": [
    "print(\"Esto es una invocación de una función.\")"
   ]
  },
  {
   "cell_type": "markdown",
   "id": "4f84125c",
   "metadata": {},
   "source": [
    "Python comprueba si el nombre especificado es legal, luego comprueba si los\n",
    "requisitos de la función para el número de argumentos permiten invocar la función de esta manera.\n",
    "En caso contrario, Python deja el código por un momento y salta dentro de la función que se desea\n",
    "invocar; por lo tanto, también toma los argumentos y los pasa a la función.\n",
    "La función ejecuta el código, provoca el efecto deseado (si lo hubiera), evalúa el resultado \n",
    "y termina la tarea.\n",
    "Finalmente, Python regresa al código(al lugar de la invocación) y reanuda su ejecución. \n"
   ]
  }
 ],
 "metadata": {
  "kernelspec": {
   "display_name": "base",
   "language": "python",
   "name": "python3"
  },
  "language_info": {
   "codemirror_mode": {
    "name": "ipython",
    "version": 3
   },
   "file_extension": ".py",
   "mimetype": "text/x-python",
   "name": "python",
   "nbconvert_exporter": "python",
   "pygments_lexer": "ipython3",
   "version": "3.12.4"
  }
 },
 "nbformat": 4,
 "nbformat_minor": 5
}
